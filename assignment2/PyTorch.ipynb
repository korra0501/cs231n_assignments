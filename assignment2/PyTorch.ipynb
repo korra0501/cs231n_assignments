{
 "cells": [
  {
   "cell_type": "markdown",
   "metadata": {},
   "source": [
    "# Training a ConvNet PyTorch\n",
    "\n",
    "In this notebook, you'll learn how to use the powerful PyTorch framework to specify a conv net architecture and train it on the CIFAR-10 dataset."
   ]
  },
  {
   "cell_type": "code",
   "execution_count": 1,
   "metadata": {},
   "outputs": [],
   "source": [
    "import torch\n",
    "import torch.nn as nn\n",
    "import torch.optim as optim\n",
    "from torch.autograd import Variable\n",
    "from torch.utils.data import DataLoader\n",
    "from torch.utils.data import sampler\n",
    "\n",
    "import torchvision.datasets as dset\n",
    "import torchvision.transforms as T\n",
    "\n",
    "import numpy as np\n",
    "\n",
    "import timeit"
   ]
  },
  {
   "cell_type": "markdown",
   "metadata": {},
   "source": [
    "## What's this PyTorch business?\n",
    "\n",
    "You've written a lot of code in this assignment to provide a whole host of neural network functionality. Dropout, Batch Norm, and 2D convolutions are some of the workhorses of deep learning in computer vision. You've also worked hard to make your code efficient and vectorized.\n",
    "\n",
    "For the last part of this assignment, though, we're going to leave behind your beautiful codebase and instead migrate to one of two popular deep learning frameworks: in this instance, PyTorch (or TensorFlow, if you switch over to that notebook). \n",
    "\n",
    "Why?\n",
    "\n",
    "* Our code will now run on GPUs! Much faster training. When using a framework like PyTorch or TensorFlow you can harness the power of the GPU for your own custom neural network architectures without having to write CUDA code directly (which is beyond the scope of this class).\n",
    "* We want you to be ready to use one of these frameworks for your project so you can experiment more efficiently than if you were writing every feature you want to use by hand. \n",
    "* We want you to stand on the shoulders of giants! TensorFlow and PyTorch are both excellent frameworks that will make your lives a lot easier, and now that you understand their guts, you are free to use them :) \n",
    "* We want you to be exposed to the sort of deep learning code you might run into in academia or industry. "
   ]
  },
  {
   "cell_type": "markdown",
   "metadata": {},
   "source": [
    "## How will I learn PyTorch?\n",
    "\n",
    "If you've used Torch before, but are new to PyTorch, this tutorial might be of use: http://pytorch.org/tutorials/beginner/former_torchies_tutorial.html\n",
    "\n",
    "Otherwise, this notebook will walk you through much of what you need to do to train models in Torch. See the end of the notebook for some links to helpful tutorials if you want to learn more or need further clarification on topics that aren't fully explained here."
   ]
  },
  {
   "cell_type": "markdown",
   "metadata": {},
   "source": [
    "## Load Datasets\n",
    "\n",
    "We load the CIFAR-10 dataset. This might take a couple minutes the first time you do it, but the files should stay cached after that."
   ]
  },
  {
   "cell_type": "code",
   "execution_count": 2,
   "metadata": {},
   "outputs": [
    {
     "name": "stdout",
     "output_type": "stream",
     "text": [
      "Files already downloaded and verified\n",
      "Files already downloaded and verified\n",
      "Files already downloaded and verified\n"
     ]
    }
   ],
   "source": [
    "class ChunkSampler(sampler.Sampler):\n",
    "    \"\"\"Samples elements sequentially from some offset. \n",
    "    Arguments:\n",
    "        num_samples: # of desired datapoints\n",
    "        start: offset where we should start selecting from\n",
    "    \"\"\"\n",
    "    def __init__(self, num_samples, start = 0):\n",
    "        self.num_samples = num_samples\n",
    "        self.start = start\n",
    "\n",
    "    def __iter__(self):\n",
    "        return iter(range(self.start, self.start + self.num_samples))\n",
    "\n",
    "    def __len__(self):\n",
    "        return self.num_samples\n",
    "\n",
    "NUM_TRAIN = 49000\n",
    "NUM_VAL = 1000\n",
    "\n",
    "cifar10_train = dset.CIFAR10('./cs231n/datasets', train=True, download=True,\n",
    "                           transform=T.ToTensor())\n",
    "loader_train = DataLoader(cifar10_train, batch_size=64, sampler=ChunkSampler(NUM_TRAIN, 0))\n",
    "\n",
    "cifar10_val = dset.CIFAR10('./cs231n/datasets', train=True, download=True,\n",
    "                           transform=T.ToTensor())\n",
    "loader_val = DataLoader(cifar10_val, batch_size=64, sampler=ChunkSampler(NUM_VAL, NUM_TRAIN))\n",
    "\n",
    "cifar10_test = dset.CIFAR10('./cs231n/datasets', train=False, download=True,\n",
    "                          transform=T.ToTensor())\n",
    "loader_test = DataLoader(cifar10_test, batch_size=64)\n"
   ]
  },
  {
   "cell_type": "markdown",
   "metadata": {},
   "source": [
    "For now, we're going to use a CPU-friendly datatype. Later, we'll switch to a datatype that will move all our computations to the GPU and measure the speedup."
   ]
  },
  {
   "cell_type": "code",
   "execution_count": 3,
   "metadata": {},
   "outputs": [],
   "source": [
    "dtype = torch.FloatTensor # the CPU datatype\n",
    "\n",
    "# Constant to control how frequently we print train loss\n",
    "print_every = 100\n",
    "\n",
    "# This is a little utility that we'll use to reset the model\n",
    "# if we want to re-initialize all our parameters\n",
    "def reset(m):\n",
    "    if hasattr(m, 'reset_parameters'):\n",
    "        m.reset_parameters()"
   ]
  },
  {
   "cell_type": "markdown",
   "metadata": {},
   "source": [
    "## Example Model\n",
    "\n",
    "### Some assorted tidbits\n",
    "\n",
    "Let's start by looking at a simple model. First, note that PyTorch operates on Tensors, which are n-dimensional arrays functionally analogous to numpy's ndarrays, with the additional feature that they can be used for computations on GPUs.\n",
    "\n",
    "We'll provide you with a Flatten function, which we explain here. Remember that our image data (and more relevantly, our intermediate feature maps) are initially N x C x H x W, where:\n",
    "* N is the number of datapoints\n",
    "* C is the number of channels\n",
    "* H is the height of the intermediate feature map in pixels\n",
    "* W is the height of the intermediate feature map in pixels\n",
    "\n",
    "This is the right way to represent the data when we are doing something like a 2D convolution, that needs spatial understanding of where the intermediate features are relative to each other. When we input  data into fully connected affine layers, however, we want each datapoint to be represented by a single vector -- it's no longer useful to segregate the different channels, rows, and columns of the data. So, we use a \"Flatten\" operation to collapse the C x H x W values per representation into a single long vector. The Flatten function below first reads in the N, C, H, and W values from a given batch of data, and then returns a \"view\" of that data. \"View\" is analogous to numpy's \"reshape\" method: it reshapes x's dimensions to be N x ??, where ?? is allowed to be anything (in this case, it will be C x H x W, but we don't need to specify that explicitly). "
   ]
  },
  {
   "cell_type": "code",
   "execution_count": 4,
   "metadata": {},
   "outputs": [],
   "source": [
    "class Flatten(nn.Module):\n",
    "    def forward(self, x):\n",
    "        N, C, H, W = x.size() # read in N, C, H, W\n",
    "        return x.view(N, -1)  # \"flatten\" the C * H * W values into a single vector per image"
   ]
  },
  {
   "cell_type": "markdown",
   "metadata": {},
   "source": [
    "### The example model itself\n",
    "\n",
    "The first step to training your own model is defining its architecture.\n",
    "\n",
    "Here's an example of a convolutional neural network defined in PyTorch -- try to understand what each line is doing, remembering that each layer is composed upon the previous layer. We haven't trained anything yet - that'll come next - for now, we want you to understand how everything gets set up.  nn.Sequential is a container which applies each layer\n",
    "one after the other.\n",
    "\n",
    "In that example, you see 2D convolutional layers (Conv2d), ReLU activations, and fully-connected layers (Linear). You also see the Cross-Entropy loss function, and the Adam optimizer being used. \n",
    "\n",
    "Make sure you understand why the parameters of the Linear layer are 5408 and 10.\n"
   ]
  },
  {
   "cell_type": "code",
   "execution_count": 5,
   "metadata": {},
   "outputs": [],
   "source": [
    "# Here's where we define the architecture of the model... \n",
    "# Use the nn package to define our model as a sequence of layers. nn.Sequential\n",
    "# is a Module which contains other Modules, and applies them in sequence to\n",
    "# produce its output. Each Linear Module computes output from input using a\n",
    "# linear function, and holds internal Tensors for its weight and bias.\n",
    "simple_model = nn.Sequential(\n",
    "                nn.Conv2d(3, 32, kernel_size=7, stride=2),\n",
    "                nn.ReLU(inplace=True),\n",
    "                Flatten(), # see above for explanation\n",
    "                nn.Linear(5408, 10), # affine layer\n",
    "              )\n",
    "\n",
    "# Set the type of all data in this model to be FloatTensor \n",
    "simple_model.type(dtype)\n",
    "\n",
    "loss_fn = nn.CrossEntropyLoss().type(dtype)\n",
    "optimizer = optim.Adam(simple_model.parameters(), lr=1e-2) # lr sets the learning rate of the optimizer"
   ]
  },
  {
   "cell_type": "markdown",
   "metadata": {},
   "source": [
    "PyTorch supports many other layer types, loss functions, and optimizers - you will experiment with these next. Here's the official API documentation for these (if any of the parameters used above were unclear, this resource will also be helpful). One note: what we call in the class \"spatial batch norm\" is called \"BatchNorm2D\" in PyTorch.\n",
    "\n",
    "* Layers: http://pytorch.org/docs/nn.html\n",
    "* Activations: http://pytorch.org/docs/nn.html#non-linear-activations\n",
    "* Loss functions: http://pytorch.org/docs/nn.html#loss-functions\n",
    "* Optimizers: http://pytorch.org/docs/optim.html#algorithms"
   ]
  },
  {
   "cell_type": "markdown",
   "metadata": {},
   "source": [
    "## Training a specific model\n",
    "In this section, we're going to specify a model for you to construct. The goal here isn't to get good performance (that'll be next), but instead to get comfortable with understanding the PyTorch documentation and configuring your own model.\n",
    "\n",
    "Using the code provided above as guidance, and using the following PyTorch documentation, specify a model with the following architecture:\n",
    "\n",
    "- 7x7 Convolutional Layer with 32 filters and stride of 1\n",
    "- ReLU Activation Layer\n",
    "- Spatial Batch Normalization Layer\n",
    "- 2x2 Max Pooling layer with a stride of 2\n",
    "- Affine layer with 1024 output units\n",
    "- ReLU Activation Layer\n",
    "- Affine layer from 1024 input units to 10 outputs\n",
    "\n",
    "And finally, set up a **cross-entropy** loss function and the **RMSprop** learning rule."
   ]
  },
  {
   "cell_type": "code",
   "execution_count": 6,
   "metadata": {},
   "outputs": [],
   "source": [
    "fixed_model_base = nn.Sequential( \n",
    "                    nn.Conv2d(3, 32, kernel_size=7, stride=1),\n",
    "                    nn.ReLU(inplace=True),\n",
    "                    nn.BatchNorm2d(32, momentum=0.1),\n",
    "                    nn.MaxPool2d(kernel_size=2, stride=2),\n",
    "                    Flatten(),\n",
    "                    nn.Linear(5408, 1024),\n",
    "                    nn.ReLU(inplace=True),\n",
    "                    nn.Linear(1024, 10)\n",
    "            )\n",
    "\n",
    "fixed_model = fixed_model_base.type(dtype)\n",
    "\n",
    "loss_fn = nn.CrossEntropyLoss().type(dtype)\n",
    "optimizer = optim.RMSprop(fixed_model.parameters(), lr=1e-2, weight_decay=0, momentum=0)"
   ]
  },
  {
   "cell_type": "markdown",
   "metadata": {},
   "source": [
    "To make sure you're doing the right thing, use the following tool to check the dimensionality of your output (it should be 64 x 10, since our batches have size 64 and the output of the final affine layer should be 10, corresponding to our 10 classes):"
   ]
  },
  {
   "cell_type": "code",
   "execution_count": 7,
   "metadata": {},
   "outputs": [
    {
     "data": {
      "text/plain": [
       "True"
      ]
     },
     "execution_count": 7,
     "metadata": {},
     "output_type": "execute_result"
    }
   ],
   "source": [
    "## Now we're going to feed a random batch into the model you defined and make sure the output is the right size\n",
    "x = torch.randn(64, 3, 32, 32).type(dtype)\n",
    "x_var = Variable(x.type(dtype)) # Construct a PyTorch Variable out of your input data\n",
    "ans = fixed_model(x_var)        # Feed it through the model! \n",
    "\n",
    "# Check to make sure what comes out of your model\n",
    "# is the right dimensionality... this should be True\n",
    "# if you've done everything correctly\n",
    "np.array_equal(np.array(ans.size()), np.array([64, 10]))       "
   ]
  },
  {
   "cell_type": "markdown",
   "metadata": {},
   "source": [
    "### GPU!\n",
    "\n",
    "Now, we're going to switch the dtype of the model and our data to the GPU-friendly tensors, and see what happens... everything is the same, except we are casting our model and input tensors as this new dtype instead of the old one.\n",
    "\n",
    "If this returns false, or otherwise fails in a not-graceful way (i.e., with some error message), you may not have an NVIDIA GPU available on your machine. If you're running locally, we recommend you switch to Google Cloud and follow the instructions to set up a GPU there. If you're already on Google Cloud, something is wrong -- make sure you followed the instructions on how to request and use a GPU on your instance. If you did, post on Piazza or come to Office Hours so we can help you debug."
   ]
  },
  {
   "cell_type": "code",
   "execution_count": 8,
   "metadata": {},
   "outputs": [
    {
     "data": {
      "text/plain": [
       "True"
      ]
     },
     "execution_count": 8,
     "metadata": {},
     "output_type": "execute_result"
    }
   ],
   "source": [
    "# Verify that CUDA is properly configured and you have a GPU available\n",
    "\n",
    "torch.cuda.is_available()"
   ]
  },
  {
   "cell_type": "code",
   "execution_count": 9,
   "metadata": {},
   "outputs": [
    {
     "data": {
      "text/plain": [
       "True"
      ]
     },
     "execution_count": 9,
     "metadata": {},
     "output_type": "execute_result"
    }
   ],
   "source": [
    "import copy\n",
    "gpu_dtype = torch.cuda.FloatTensor\n",
    "\n",
    "fixed_model_gpu = copy.deepcopy(fixed_model_base).type(gpu_dtype)\n",
    "\n",
    "x_gpu = torch.randn(64, 3, 32, 32).type(gpu_dtype)\n",
    "x_var_gpu = Variable(x.type(gpu_dtype)) # Construct a PyTorch Variable out of your input data\n",
    "ans = fixed_model_gpu(x_var_gpu)        # Feed it through the model! \n",
    "\n",
    "# Check to make sure what comes out of your model\n",
    "# is the right dimensionality... this should be True\n",
    "# if you've done everything correctly\n",
    "np.array_equal(np.array(ans.size()), np.array([64, 10]))"
   ]
  },
  {
   "cell_type": "markdown",
   "metadata": {},
   "source": [
    "Run the following cell to evaluate the performance of the forward pass running on the CPU:"
   ]
  },
  {
   "cell_type": "code",
   "execution_count": 10,
   "metadata": {},
   "outputs": [
    {
     "name": "stdout",
     "output_type": "stream",
     "text": [
      "29.2 ms ± 478 µs per loop (mean ± std. dev. of 7 runs, 10 loops each)\n"
     ]
    }
   ],
   "source": [
    "%%timeit \n",
    "ans = fixed_model(x_var)"
   ]
  },
  {
   "cell_type": "markdown",
   "metadata": {},
   "source": [
    "... and now the GPU:"
   ]
  },
  {
   "cell_type": "code",
   "execution_count": 11,
   "metadata": {},
   "outputs": [
    {
     "name": "stdout",
     "output_type": "stream",
     "text": [
      "1.36 ms ± 7.71 µs per loop (mean ± std. dev. of 7 runs, 1000 loops each)\n"
     ]
    }
   ],
   "source": [
    "%%timeit \n",
    "torch.cuda.synchronize() # Make sure there are no pending GPU computations\n",
    "ans = fixed_model_gpu(x_var_gpu)        # Feed it through the model! \n",
    "torch.cuda.synchronize() # Make sure there are no pending GPU computations"
   ]
  },
  {
   "cell_type": "markdown",
   "metadata": {},
   "source": [
    "You should observe that even a simple forward pass like this is significantly faster on the GPU. So for the rest of the assignment (and when you go train your models in assignment 3 and your project!), you should use the GPU datatype for your model and your tensors: as a reminder that is *torch.cuda.FloatTensor* (in our notebook here as *gpu_dtype*)"
   ]
  },
  {
   "cell_type": "markdown",
   "metadata": {},
   "source": [
    "### Train the model.\n",
    "\n",
    "Now that you've seen how to define a model and do a single forward pass of some data through it, let's  walk through how you'd actually train one whole epoch over your training data (using the simple_model we provided above).\n",
    "\n",
    "Make sure you understand how each PyTorch function used below corresponds to what you implemented in your custom neural network implementation.\n",
    "\n",
    "Note that because we are not resetting the weights anywhere below, if you run the cell multiple times, you are effectively training multiple epochs (so your performance should improve).\n",
    "\n",
    "First, set up an RMSprop optimizer (using a 1e-3 learning rate) and a cross-entropy loss function:"
   ]
  },
  {
   "cell_type": "code",
   "execution_count": 12,
   "metadata": {},
   "outputs": [],
   "source": [
    "loss_fn = nn.CrossEntropyLoss().type(gpu_dtype)\n",
    "optimizer = optim.RMSprop(fixed_model_gpu.parameters(), lr=1e-3)"
   ]
  },
  {
   "cell_type": "code",
   "execution_count": 13,
   "metadata": {},
   "outputs": [
    {
     "name": "stderr",
     "output_type": "stream",
     "text": [
      "C:\\Users\\CHO\\Anaconda3\\lib\\site-packages\\ipykernel_launcher.py:17: UserWarning: invalid index of a 0-dim tensor. This will be an error in PyTorch 0.5. Use tensor.item() to convert a 0-dim tensor to a Python number\n"
     ]
    },
    {
     "name": "stdout",
     "output_type": "stream",
     "text": [
      "t = 100, loss = 1.4120\n",
      "t = 200, loss = 1.5152\n",
      "t = 300, loss = 1.3645\n",
      "t = 400, loss = 1.1800\n",
      "t = 500, loss = 1.1980\n",
      "t = 600, loss = 1.3957\n",
      "t = 700, loss = 1.2970\n"
     ]
    }
   ],
   "source": [
    "# This sets the model in \"training\" mode. This is relevant for some layers that may have different behavior\n",
    "# in training mode vs testing mode, such as Dropout and BatchNorm. \n",
    "fixed_model_gpu.train()\n",
    "\n",
    "# Load one batch at a time.\n",
    "for t, (x, y) in enumerate(loader_train):\n",
    "    x_var = Variable(x.type(gpu_dtype))\n",
    "    y_var = Variable(y.type(gpu_dtype).long())\n",
    "\n",
    "    # This is the forward pass: predict the scores for each class, for each x in the batch.\n",
    "    scores = fixed_model_gpu(x_var)\n",
    "    \n",
    "    # Use the correct y values and the predicted y values to compute the loss.\n",
    "    loss = loss_fn(scores, y_var)\n",
    "    \n",
    "    if (t + 1) % print_every == 0:\n",
    "        print('t = %d, loss = %.4f' % (t + 1, loss.data[0]))\n",
    "\n",
    "    # Zero out all of the gradients for the variables which the optimizer will update.\n",
    "    optimizer.zero_grad()\n",
    "    \n",
    "    # This is the backwards pass: compute the gradient of the loss with respect to each \n",
    "    # parameter of the model.\n",
    "    loss.backward()\n",
    "    \n",
    "    # Actually update the parameters of the model using the gradients computed by the backwards pass.\n",
    "    optimizer.step()"
   ]
  },
  {
   "cell_type": "markdown",
   "metadata": {},
   "source": [
    "Now you've seen how the training process works in PyTorch. To save you writing boilerplate code, we're providing the following helper functions to help you train for multiple epochs and check the accuracy of your model:"
   ]
  },
  {
   "cell_type": "code",
   "execution_count": 5,
   "metadata": {},
   "outputs": [],
   "source": [
    "def train(model, loss_fn, optimizer, num_epochs = 1):\n",
    "    for epoch in range(num_epochs):\n",
    "        #print('Starting epoch %d / %d' % (epoch + 1, num_epochs))\n",
    "        model.train()\n",
    "        for t, (x, y) in enumerate(loader_train):\n",
    "            x_var = Variable(x.type(gpu_dtype))\n",
    "            y_var = Variable(y.type(gpu_dtype).long())\n",
    "\n",
    "            scores = model(x_var)\n",
    "            \n",
    "            loss = loss_fn(scores, y_var)\n",
    "            if (t + 1) % print_every == 0:\n",
    "                print('t = %d, loss = %.4f' % (t + 1, loss.data[0]))\n",
    "\n",
    "            optimizer.zero_grad()\n",
    "            loss.backward()\n",
    "            optimizer.step()\n",
    "\n",
    "def check_accuracy(model, loader):\n",
    "    global best_acc\n",
    "    if loader.dataset.train:\n",
    "        print('Checking accuracy on validation set')\n",
    "    else:\n",
    "        print('Checking accuracy on test set')   \n",
    "    num_correct = 0\n",
    "    num_samples = 0\n",
    "    model.eval() # Put the model in test mode (the opposite of model.train(), essentially)\n",
    "    for x, y in loader:\n",
    "        x_var = Variable(x.type(gpu_dtype), volatile=True)\n",
    "\n",
    "        scores = model(x_var)\n",
    "        _, preds = scores.data.cpu().max(1)\n",
    "        num_correct += (preds == y).sum()\n",
    "        num_samples += preds.size(0)\n",
    "    acc = float(num_correct) / num_samples\n",
    "    print('Got %d / %d correct (%.2f)' % (num_correct, num_samples, 100 * acc))\n",
    "    if acc > best_acc:\n",
    "        print('Saving best accuracy...')\n",
    "        state = {'model': model.state_dict(), 'acc': acc, 'epoch': epoch}\n",
    "        torch.save(state, checkpoint_path)\n",
    "        best_acc = acc"
   ]
  },
  {
   "cell_type": "markdown",
   "metadata": {},
   "source": [
    "### Check the accuracy of the model.\n",
    "\n",
    "Let's see the train and check_accuracy code in action -- feel free to use these methods when evaluating the models you develop below.\n",
    "\n",
    "You should get a training loss of around 1.2-1.4, and a validation accuracy of around 50-60%. As mentioned above, if you re-run the cells, you'll be training more epochs, so your performance will improve past these numbers.\n",
    "\n",
    "But don't worry about getting these numbers better -- this was just practice before you tackle designing your own model."
   ]
  },
  {
   "cell_type": "code",
   "execution_count": 16,
   "metadata": {},
   "outputs": [
    {
     "name": "stdout",
     "output_type": "stream",
     "text": [
      "Starting epoch 1 / 1\n"
     ]
    },
    {
     "name": "stderr",
     "output_type": "stream",
     "text": [
      "C:\\Users\\CHO\\Anaconda3\\lib\\site-packages\\ipykernel_launcher.py:13: UserWarning: invalid index of a 0-dim tensor. This will be an error in PyTorch 0.5. Use tensor.item() to convert a 0-dim tensor to a Python number\n",
      "  del sys.path[0]\n"
     ]
    },
    {
     "name": "stdout",
     "output_type": "stream",
     "text": [
      "t = 100, loss = 1.3820\n",
      "t = 200, loss = 1.4774\n",
      "t = 300, loss = 1.3911\n",
      "t = 400, loss = 1.3095\n",
      "t = 500, loss = 1.1311\n",
      "t = 600, loss = 1.3228\n",
      "t = 700, loss = 1.2009\n",
      "Checking accuracy on validation set\n",
      "Got 558 / 1000 correct (55.80)\n"
     ]
    },
    {
     "name": "stderr",
     "output_type": "stream",
     "text": [
      "C:\\Users\\CHO\\Anaconda3\\lib\\site-packages\\ipykernel_launcher.py:28: UserWarning: volatile was removed and now has no effect. Use `with torch.no_grad():` instead.\n"
     ]
    }
   ],
   "source": [
    "torch.cuda.random.manual_seed(12345)\n",
    "fixed_model_gpu.apply(reset)\n",
    "train(fixed_model_gpu, loss_fn, optimizer, num_epochs=1)\n",
    "check_accuracy(fixed_model_gpu, loader_val)"
   ]
  },
  {
   "cell_type": "markdown",
   "metadata": {},
   "source": [
    "### Don't forget the validation set!\n",
    "\n",
    "And note that you can use the check_accuracy function to evaluate on either the test set or the validation set, by passing either **loader_test** or **loader_val** as the second argument to check_accuracy. You should not touch the test set until you have finished your architecture and hyperparameter tuning, and only run the test set once at the end to report a final value. "
   ]
  },
  {
   "cell_type": "markdown",
   "metadata": {},
   "source": [
    "## Train a _great_ model on CIFAR-10!\n",
    "\n",
    "Now it's your job to experiment with architectures, hyperparameters, loss functions, and optimizers to train a model that achieves **>=70%** accuracy on the CIFAR-10 **validation** set. You can use the check_accuracy and train functions from above."
   ]
  },
  {
   "cell_type": "markdown",
   "metadata": {},
   "source": [
    "### Things you should try:\n",
    "- **Filter size**: Above we used 7x7; this makes pretty pictures but smaller filters may be more efficient\n",
    "- **Number of filters**: Above we used 32 filters. Do more or fewer do better?\n",
    "- **Pooling vs Strided Convolution**: Do you use max pooling or just stride convolutions?\n",
    "- **Batch normalization**: Try adding spatial batch normalization after convolution layers and vanilla batch normalization after affine layers. Do your networks train faster?\n",
    "- **Network architecture**: The network above has two layers of trainable parameters. Can you do better with a deep network? Good architectures to try include:\n",
    "    - [conv-relu-pool]xN -> [affine]xM -> [softmax or SVM]\n",
    "    - [conv-relu-conv-relu-pool]xN -> [affine]xM -> [softmax or SVM]\n",
    "    - [batchnorm-relu-conv]xN -> [affine]xM -> [softmax or SVM]\n",
    "- **Global Average Pooling**: Instead of flattening and then having multiple affine layers, perform convolutions until your image gets small (7x7 or so) and then perform an average pooling operation to get to a 1x1 image picture (1, 1 , Filter#), which is then reshaped into a (Filter#) vector. This is used in [Google's Inception Network](https://arxiv.org/abs/1512.00567) (See Table 1 for their architecture).\n",
    "- **Regularization**: Add l2 weight regularization, or perhaps use Dropout.\n",
    "\n",
    "### Tips for training\n",
    "For each network architecture that you try, you should tune the learning rate and regularization strength. When doing this there are a couple important things to keep in mind:\n",
    "\n",
    "- If the parameters are working well, you should see improvement within a few hundred iterations\n",
    "- Remember the coarse-to-fine approach for hyperparameter tuning: start by testing a large range of hyperparameters for just a few training iterations to find the combinations of parameters that are working at all.\n",
    "- Once you have found some sets of parameters that seem to work, search more finely around these parameters. You may need to train for more epochs.\n",
    "- You should use the validation set for hyperparameter search, and save your test set for evaluating your architecture on the best parameters as selected by the validation set.\n",
    "\n",
    "### Going above and beyond\n",
    "If you are feeling adventurous there are many other features you can implement to try and improve your performance. You are **not required** to implement any of these; however they would be good things to try for extra credit.\n",
    "\n",
    "- Alternative update steps: For the assignment we implemented SGD+momentum, RMSprop, and Adam; you could try alternatives like AdaGrad or AdaDelta.\n",
    "- Alternative activation functions such as leaky ReLU, parametric ReLU, ELU, or MaxOut.\n",
    "- Model ensembles\n",
    "- Data augmentation\n",
    "- New Architectures\n",
    "  - [ResNets](https://arxiv.org/abs/1512.03385) where the input from the previous layer is added to the output.\n",
    "  - [DenseNets](https://arxiv.org/abs/1608.06993) where inputs into previous layers are concatenated together.\n",
    "  - [This blog has an in-depth overview](https://chatbotslife.com/resnets-highwaynets-and-densenets-oh-my-9bb15918ee32)\n",
    "\n",
    "If you do decide to implement something extra, clearly describe it in the \"Extra Credit Description\" cell below.\n",
    "\n",
    "### What we expect\n",
    "At the very least, you should be able to train a ConvNet that gets at least 70% accuracy on the validation set. This is just a lower bound - if you are careful it should be possible to get accuracies much higher than that! Extra credit points will be awarded for particularly high-scoring models or unique approaches.\n",
    "\n",
    "You should use the space below to experiment and train your network. \n",
    "\n",
    "Have fun and happy training!"
   ]
  },
  {
   "cell_type": "code",
   "execution_count": 6,
   "metadata": {},
   "outputs": [],
   "source": [
    "# Train your model here, and make sure the output of this cell is the accuracy of your best model on the \n",
    "# train, val, and test sets. Here's some code to get you started. The output of this cell should be the training\n",
    "# and validation accuracy on your best model (measured by validation accuracy).\n",
    "\n",
    "class IdentityBlock(nn.Module):\n",
    "    def __init__(self, in_channels, filters):\n",
    "        super(IdentityBlock, self).__init__()\n",
    "        F1, F2 = filters\n",
    "        # First component of main path\n",
    "        self.conv1 = nn.Conv2d(in_channels, F1,kernel_size=1, stride=1)\n",
    "        self.bn1 = nn.BatchNorm2d(F1)\n",
    "        self.relu1 = nn.ReLU(F1)\n",
    "        \n",
    "        # Second component of main path\n",
    "        self.conv2 = nn.Conv2d(F1, F2, kernel_size=3, stride=1, padding=1)\n",
    "        self.bn2 = nn.BatchNorm2d(F2)\n",
    "        self.relu2 = nn.ReLU(F2)\n",
    "        \n",
    "        # Third component of main path\n",
    "        self.conv3 = nn.Conv2d(F2, in_channels, kernel_size=1, stride=1)\n",
    "        self.bn3 = nn.BatchNorm2d(in_channels)\n",
    "        self.relu3 = nn.ReLU()\n",
    "    \n",
    "    def forward(self, x):\n",
    "        x_shortcut = x\n",
    "        out = self.relu1(self.bn1(self.conv1(x)))\n",
    "        out = self.relu2(self.bn2(self.conv2(out)))\n",
    "        out = self.bn3(self.conv3(out))\n",
    "        out += x_shortcut\n",
    "        out = self.relu3(out)\n",
    "        return out\n",
    "\n",
    "class ConvolutionalBlock(nn.Module):\n",
    "    def __init__(self, in_channels, filters, s):\n",
    "        super(ConvolutionalBlock, self).__init__()\n",
    "        F1, F2, F3 = filters\n",
    "        # First component of main path\n",
    "        self.conv1= nn.Conv2d(in_channels, F1, kernel_size=1, stride=s)\n",
    "        self.bn1 = nn.BatchNorm2d(F1)\n",
    "        self.relu1 = nn.ReLU(F1)\n",
    "        \n",
    "        # Second component of main path\n",
    "        self.conv2 = nn.Conv2d(F1, F2, kernel_size=3, stride=1, padding=1)\n",
    "        self.bn2 = nn.BatchNorm2d(F2)\n",
    "        self.relu2 = nn.ReLU(F2)\n",
    "        \n",
    "        # Third component of main path\n",
    "        self.conv3 = nn.Conv2d(F2, F3, kernel_size=1, stride=1)\n",
    "        self.bn3 = nn.BatchNorm2d(F3)\n",
    "        self.relu3 = nn.ReLU()\n",
    "        \n",
    "        # shortcut\n",
    "        self.shortcut = nn.Sequential()\n",
    "        self.shortcut = nn.Sequential(\n",
    "            nn.Conv2d(in_channels, F3, kernel_size=1, stride=s),\n",
    "            nn.BatchNorm2d(F3)\n",
    "        )\n",
    "        \n",
    "    def forward(self, x):\n",
    "        out = self.relu1(self.bn1(self.conv1(x)))\n",
    "        out = self.relu2(self.bn2(self.conv2(out)))\n",
    "        out = self.bn3(self.conv3(out))\n",
    "        out += self.shortcut(x)\n",
    "        out = self.relu3(out)\n",
    "        return out\n",
    "        \n",
    "class ResNet(nn.Module):\n",
    "    def __init__(self, num_blocks, num_classes=10):\n",
    "        super(ResNet, self).__init__()\n",
    "        # Stage 1\n",
    "        self.conv1 = nn.Conv2d(3, 64, kernel_size=3, stride=1, padding=1) # ouput size remains same\n",
    "        self.bn1 = nn.BatchNorm2d(64)\n",
    "        self.relu1 = nn.ReLU()\n",
    "        # Stage 2\n",
    "        self.stage2 = nn.Sequential(\n",
    "                                    ConvolutionalBlock(64, filters=[64, 64, 256], s=1),\n",
    "                                    IdentityBlock(256, filters=[64, 64]),\n",
    "                                    IdentityBlock(256, filters=[64, 64])\n",
    "        )\n",
    "        # Stage 3 to 5: able to change number of blocks in each stages, using num_block\n",
    "        self.stage3 = self._make_stage(256, num_blocks[0], stride=2)\n",
    "        self.stage4 = self._make_stage(512, num_blocks[1], stride=2)\n",
    "        self.stage5 = self._make_stage(1024, num_blocks[2], stride=2)\n",
    "\n",
    "        # Fully-connected layers in the end\n",
    "        self.avgpool = nn.AdaptiveAvgPool2d(1)\n",
    "        self.flatten = Flatten()\n",
    "        self.linear = nn.Linear(2048, num_classes)\n",
    "        \n",
    "    def _make_stage(self, in_channels, num_block, stride):\n",
    "        return nn.Sequential(\n",
    "                ConvolutionalBlock(in_channels, filters=[int(in_channels/2), int(in_channels/2), in_channels*2], s=stride),\n",
    "                *[IdentityBlock(in_channels*2, filters=[int(in_channels/2), int(in_channels/2)]) for _ in range (num_block-1)]\n",
    "        )\n",
    "    \n",
    "    def forward(self, x):\n",
    "        out = self.relu1(self.bn1(self.conv1(x)))\n",
    "        out = self.stage2(out)\n",
    "        out = self.stage3(out)\n",
    "        out = self.stage4(out)\n",
    "        out = self.stage5(out)\n",
    "        out = self.linear(self.flatten(self.avgpool(out)))\n",
    "        return out\n",
    "\n",
    "def ResNet50():\n",
    "    return ResNet([4, 6, 3])"
   ]
  },
  {
   "cell_type": "code",
   "execution_count": 7,
   "metadata": {
    "scrolled": true
   },
   "outputs": [
    {
     "name": "stdout",
     "output_type": "stream",
     "text": [
      "Traning epoch 12 with learning rate 0.001\n",
      "Starting epoch 1 / 12\n"
     ]
    },
    {
     "name": "stderr",
     "output_type": "stream",
     "text": [
      "C:\\Users\\CHO\\Anaconda3\\lib\\site-packages\\ipykernel_launcher.py:13: UserWarning: invalid index of a 0-dim tensor. This will be an error in PyTorch 0.5. Use tensor.item() to convert a 0-dim tensor to a Python number\n",
      "  del sys.path[0]\n"
     ]
    },
    {
     "name": "stdout",
     "output_type": "stream",
     "text": [
      "t = 100, loss = 1.6414\n",
      "t = 200, loss = 1.8093\n",
      "t = 300, loss = 1.4713\n",
      "t = 400, loss = 1.1275\n",
      "t = 500, loss = 1.3172\n",
      "t = 600, loss = 1.2622\n",
      "t = 700, loss = 1.2900\n",
      "Checking accuracy on validation set\n"
     ]
    },
    {
     "name": "stderr",
     "output_type": "stream",
     "text": [
      "C:\\Users\\CHO\\Anaconda3\\lib\\site-packages\\ipykernel_launcher.py:29: UserWarning: volatile was removed and now has no effect. Use `with torch.no_grad():` instead.\n"
     ]
    },
    {
     "name": "stdout",
     "output_type": "stream",
     "text": [
      "Got 529 / 1000 correct (52.90)\n",
      "Saving best accuracy...\n",
      "Starting epoch 2 / 12\n",
      "t = 100, loss = 0.9627\n",
      "t = 200, loss = 0.9979\n",
      "t = 300, loss = 1.1430\n",
      "t = 400, loss = 0.7197\n",
      "t = 500, loss = 0.9087\n",
      "t = 600, loss = 0.9074\n",
      "t = 700, loss = 0.8553\n",
      "Checking accuracy on validation set\n",
      "Got 667 / 1000 correct (66.70)\n",
      "Saving best accuracy...\n",
      "Starting epoch 3 / 12\n",
      "t = 100, loss = 0.6523\n",
      "t = 200, loss = 0.9314\n",
      "t = 300, loss = 0.8306\n",
      "t = 400, loss = 0.6350\n",
      "t = 500, loss = 0.7194\n",
      "t = 600, loss = 0.8850\n",
      "t = 700, loss = 0.6425\n",
      "Checking accuracy on validation set\n",
      "Got 706 / 1000 correct (70.60)\n",
      "Saving best accuracy...\n",
      "Starting epoch 4 / 12\n",
      "t = 100, loss = 0.5847\n",
      "t = 200, loss = 0.6768\n",
      "t = 300, loss = 0.6462\n",
      "t = 400, loss = 0.5081\n",
      "t = 500, loss = 0.6083\n",
      "t = 600, loss = 0.7009\n",
      "t = 700, loss = 0.4366\n",
      "Checking accuracy on validation set\n",
      "Got 732 / 1000 correct (73.20)\n",
      "Saving best accuracy...\n",
      "Starting epoch 5 / 12\n",
      "t = 100, loss = 0.4473\n",
      "t = 200, loss = 0.4668\n",
      "t = 300, loss = 0.4543\n",
      "t = 400, loss = 0.4169\n",
      "t = 500, loss = 0.5346\n",
      "t = 600, loss = 0.4111\n",
      "t = 700, loss = 0.4706\n",
      "Checking accuracy on validation set\n",
      "Got 769 / 1000 correct (76.90)\n",
      "Saving best accuracy...\n",
      "Starting epoch 6 / 12\n",
      "t = 100, loss = 0.2905\n",
      "t = 200, loss = 0.3601\n",
      "t = 300, loss = 0.3362\n",
      "t = 400, loss = 0.3130\n",
      "t = 500, loss = 0.4532\n",
      "t = 600, loss = 0.4095\n",
      "t = 700, loss = 0.4024\n",
      "Checking accuracy on validation set\n",
      "Got 771 / 1000 correct (77.10)\n",
      "Saving best accuracy...\n",
      "Starting epoch 7 / 12\n",
      "t = 100, loss = 0.2205\n",
      "t = 200, loss = 0.1957\n",
      "t = 300, loss = 0.3165\n",
      "t = 400, loss = 0.3190\n",
      "t = 500, loss = 0.3252\n",
      "t = 600, loss = 0.1507\n",
      "t = 700, loss = 0.2793\n",
      "Checking accuracy on validation set\n",
      "Got 777 / 1000 correct (77.70)\n",
      "Saving best accuracy...\n",
      "Starting epoch 8 / 12\n",
      "t = 100, loss = 0.1851\n",
      "t = 200, loss = 0.1700\n",
      "t = 300, loss = 0.2576\n",
      "t = 400, loss = 0.2154\n",
      "t = 500, loss = 0.3151\n",
      "t = 600, loss = 0.2552\n",
      "t = 700, loss = 0.2622\n",
      "Checking accuracy on validation set\n",
      "Got 803 / 1000 correct (80.30)\n",
      "Saving best accuracy...\n",
      "Starting epoch 9 / 12\n",
      "t = 100, loss = 0.1307\n",
      "t = 200, loss = 0.1651\n",
      "t = 300, loss = 0.2520\n",
      "t = 400, loss = 0.2074\n",
      "t = 500, loss = 0.1031\n",
      "t = 600, loss = 0.0791\n",
      "t = 700, loss = 0.1404\n",
      "Checking accuracy on validation set\n",
      "Got 806 / 1000 correct (80.60)\n",
      "Saving best accuracy...\n",
      "Starting epoch 10 / 12\n",
      "t = 100, loss = 0.0942\n",
      "t = 200, loss = 0.0867\n",
      "t = 300, loss = 0.0872\n",
      "t = 400, loss = 0.1236\n",
      "t = 500, loss = 0.0539\n",
      "t = 600, loss = 0.1530\n",
      "t = 700, loss = 0.1144\n",
      "Checking accuracy on validation set\n",
      "Got 811 / 1000 correct (81.10)\n",
      "Saving best accuracy...\n",
      "Starting epoch 11 / 12\n",
      "t = 100, loss = 0.1356\n",
      "t = 200, loss = 0.1473\n",
      "t = 300, loss = 0.2242\n",
      "t = 400, loss = 0.0975\n",
      "t = 500, loss = 0.0686\n",
      "t = 600, loss = 0.1179\n",
      "t = 700, loss = 0.0919\n",
      "Checking accuracy on validation set\n",
      "Got 814 / 1000 correct (81.40)\n",
      "Saving best accuracy...\n",
      "Starting epoch 12 / 12\n",
      "t = 100, loss = 0.1498\n",
      "t = 200, loss = 0.1010\n",
      "t = 300, loss = 0.0974\n",
      "t = 400, loss = 0.0704\n",
      "t = 500, loss = 0.1076\n",
      "t = 600, loss = 0.0494\n",
      "t = 700, loss = 0.0826\n",
      "Checking accuracy on validation set\n",
      "Got 816 / 1000 correct (81.60)\n",
      "Saving best accuracy...\n",
      "Traning epoch 1 with learning rate 0.0001\n",
      "Starting epoch 1 / 1\n",
      "t = 100, loss = 0.0925\n",
      "t = 200, loss = 0.0662\n",
      "t = 300, loss = 0.0291\n",
      "t = 400, loss = 0.0149\n",
      "t = 500, loss = 0.0335\n",
      "t = 600, loss = 0.0468\n",
      "t = 700, loss = 0.0281\n",
      "Checking accuracy on validation set\n",
      "Got 844 / 1000 correct (84.40)\n",
      "Saving best accuracy...\n",
      "Traning epoch 1 with learning rate 1e-05\n",
      "Starting epoch 1 / 1\n",
      "t = 100, loss = 0.0131\n",
      "t = 200, loss = 0.0192\n",
      "t = 300, loss = 0.0094\n",
      "t = 400, loss = 0.0033\n",
      "t = 500, loss = 0.0079\n",
      "t = 600, loss = 0.0091\n",
      "t = 700, loss = 0.0031\n",
      "Checking accuracy on validation set\n",
      "Got 851 / 1000 correct (85.10)\n",
      "Saving best accuracy...\n"
     ]
    }
   ],
   "source": [
    "import os\n",
    "global gpu_dtype, checkpoint_path\n",
    "gpu_dtype = torch.cuda.FloatTensor\n",
    "checkpoint_path = 'resnet.pth'\n",
    "best_acc = 0\n",
    "\n",
    "torch.cuda.empty_cache() # Releases all unoccupied cached memory currently held by the caching allocator\n",
    "model = ResNet50().type(gpu_dtype) # Moves all model parameters and buffers to the GPU\n",
    "loss_fn = nn.CrossEntropyLoss().cuda()\n",
    "\n",
    "EPOCHS  = [12, 1, 1] # divide lr by 10 after each number of epochs\n",
    "learning_rate = 1e-3\n",
    "for num_epochs in EPOCHS:\n",
    "    print(\"Traning epoch {} with learning rate {}\".format(num_epochs, learning_rate))\n",
    "    optimizer = optim.Adam(model.parameters(), lr=learning_rate)\n",
    "    for epoch in range(num_epochs):\n",
    "        print('Starting epoch %d / %d' % (epoch + 1, num_epochs))\n",
    "        train(model, loss_fn, optimizer, num_epochs=1)\n",
    "        check_accuracy(model, loader_val)\n",
    "    learning_rate *= 0.1"
   ]
  },
  {
   "cell_type": "markdown",
   "metadata": {},
   "source": [
    "### Describe what you did \n",
    "\n",
    "In the cell below you should write an explanation of what you did, any additional features that you implemented, and any visualizations or graphs that you make in the process of training and evaluating your network."
   ]
  },
  {
   "cell_type": "markdown",
   "metadata": {},
   "source": [
    "In this assignment, I implemented ResNet model proposed by He at al.(2015)[1]. The implementation here was inspired by Andrew Ng's Cousera 'Deep Learning Specialization' assignment.\n",
    "\n",
    "**ResNet model uses two main kinds of blocks: IdentityBlock and ConvolutionalBlock(it is also referred as basic building block and \"bottlenet\" building block in paper)**. It depends mainly on whether the input/output dimensions are same or different. In these blocks, **\"shortcut\" or a \"skip connection\" allows the gradient to be directly backpropagated to earlier layers**.\n",
    "\n",
    "- IdentityBlock is the standard building block in ResNet, and the input activation has the same dimension as the output activation. The skip connection skips over 3 hidden layers, and Batch Normalization step was added to speed up traning. The individual steps are as follows:\n",
    "    - First component: Conv2d -> BatchNorm2d -> ReLU\n",
    "    - Second component: Conv2d -> BatchNorm2d -> ReLU\n",
    "    - Third component: Conv2d -> BatchNorm2d\n",
    "    - Final step: input + shortcut -> ReLU\n",
    "\n",
    "\n",
    "- ConvolutionalBock is special type of block that input and output dimensions don't match up. While IdentityBlock has no layer in the shortcut, ConvolutionalBlock has Conv2d layer and Batch Normalization in the shortcut. The Conv2d layer in the shortcut path is used to resize the input $x$ to a different dimension. The details of the individual steps are as follows:\n",
    "    - First component: Conv2d -> BatchNorm2d -> ReLU\n",
    "    - Second component: Conv2d -> BatchNorm2d -> ReLU\n",
    "    - Third component: Conv2d -> BatchNorm2d\n",
    "    - Final step: input + shortcut(Conv2d -> BatchNorm2d) -> ReLU\n",
    "\n",
    "\n",
    "- Finally, ResNet model is constructed by two blocks mentioned above. The following figure shows the architecture of my implementation of ResNet-50. \n",
    "<img src=\"resnet50.png\" style=\"width:850px;height:180px;\">\n",
    "<caption><center> <u> <font color='purple'> **Figure 1** </u><font color='purple'>  : **ResNet50 Model**</center></caption>\n",
    "\n",
    "From Stage 3 to Stage 5, the number of IdentityBlocks can be modified by just putting a list of numbers into `ResNet` class. For example, ResNet-101 model can be defined as `ResNet([4,23,3])`. \n",
    "\n",
    "- Note that this implementation is different from the architecture that the paper proposed for CIFAR-10 dataset: it is rather close to the architecture for ImageNet.\n",
    "- Optimizer used here is Adam, different from SGD which the paper used. Furthermore, I tried to check the effect of learning rate by decreasing lr by 10 after 13th and 14th epoch. Decreasing lr was very efficient especially when it was decreased to le-4. \n",
    "\n",
    "\n",
    "[1] Kaiming He, Xiangyu Zhang, Shaoqing Ren, Jian Sun - [Deep Residual Learning for Image Recognition (2015)](https://arxiv.org/abs/1512.03385)"
   ]
  },
  {
   "cell_type": "markdown",
   "metadata": {},
   "source": [
    "## Test set -- run this only once\n",
    "\n",
    "Now that we've gotten a result we're happy with, we test our final model on the test set (which you should store in best_model).  This would be the score we would achieve on a competition. Think about how this compares to your validation set accuracy."
   ]
  },
  {
   "cell_type": "code",
   "execution_count": 8,
   "metadata": {},
   "outputs": [
    {
     "name": "stdout",
     "output_type": "stream",
     "text": [
      "Checking accuracy on test set\n"
     ]
    },
    {
     "name": "stderr",
     "output_type": "stream",
     "text": [
      "C:\\Users\\CHO\\Anaconda3\\lib\\site-packages\\ipykernel_launcher.py:29: UserWarning: volatile was removed and now has no effect. Use `with torch.no_grad():` instead.\n"
     ]
    },
    {
     "name": "stdout",
     "output_type": "stream",
     "text": [
      "Got 8403 / 10000 correct (84.03)\n"
     ]
    }
   ],
   "source": [
    "check_accuracy(model, loader_test)"
   ]
  },
  {
   "cell_type": "markdown",
   "metadata": {},
   "source": [
    "## Going further with PyTorch\n",
    "\n",
    "The next assignment will make heavy use of PyTorch. You might also find it useful for your projects. \n",
    "\n",
    "Here's a nice tutorial by Justin Johnson that shows off some of PyTorch's features, like dynamic graphs and custom NN modules: http://pytorch.org/tutorials/beginner/pytorch_with_examples.html\n",
    "\n",
    "If you're interested in reinforcement learning for your final project, this is a good (more advanced) DQN tutorial in PyTorch: http://pytorch.org/tutorials/intermediate/reinforcement_q_learning.html"
   ]
  }
 ],
 "metadata": {
  "kernelspec": {
   "display_name": "Python 3",
   "language": "python",
   "name": "python3"
  },
  "language_info": {
   "codemirror_mode": {
    "name": "ipython",
    "version": 3
   },
   "file_extension": ".py",
   "mimetype": "text/x-python",
   "name": "python",
   "nbconvert_exporter": "python",
   "pygments_lexer": "ipython3",
   "version": "3.6.4"
  }
 },
 "nbformat": 4,
 "nbformat_minor": 1
}
